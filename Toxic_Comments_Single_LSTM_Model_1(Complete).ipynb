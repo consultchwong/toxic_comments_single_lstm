{
  "nbformat": 4,
  "nbformat_minor": 0,
  "metadata": {
    "colab": {
      "name": "Toxic Comments Single LSTM Model 1(Complete).ipynb",
      "version": "0.3.2",
      "views": {},
      "default_view": {},
      "provenance": []
    },
    "kernelspec": {
      "name": "python3",
      "display_name": "Python 3"
    },
    "accelerator": "GPU"
  },
  "cells": [
    {
      "metadata": {
        "id": "ZCQZHI2fvGcm",
        "colab_type": "text"
      },
      "cell_type": "markdown",
      "source": [
        "![](https://www.pyimagesearch.com/wp-content/uploads/2017/12/not_santa_detector_dl_logos.jpg)\n",
        "**This notebook attempts to tackle this classification problem by using Keras LSTM (Google Colab Version). After running the notebook, you can download both the trained model files and the result file **"
      ]
    },
    {
      "metadata": {
        "id": "RmkXeNiMZjGj",
        "colab_type": "text"
      },
      "cell_type": "markdown",
      "source": [
        "[Disclaimer]\n",
        "\n",
        "This notebook is originaled form Bongo's kernl on Kaggle\n",
        "\n",
        "https://www.kaggle.com/sbongo/for-beginners-tackling-toxic-using-keras\n",
        "\n",
        "Based on Bongo's work, I have made the following enhancements:\n",
        "\n",
        "* add the prediction logic\n",
        "* add the code for viewing the result\n",
        "* add the code for exporting the model in files\n",
        "* add the code for downloading result data and model files\n",
        "* migrate the code to google's Colab environment\n",
        "\n",
        "\n",
        "**By Tony Yeung**\n",
        "---\n",
        "\n",
        "\n",
        "\n",
        "\n"
      ]
    },
    {
      "metadata": {
        "id": "ui4MHp4oxHUE",
        "colab_type": "text"
      },
      "cell_type": "markdown",
      "source": [
        "Download the data from github into the workspace. \n",
        "\n"
      ]
    },
    {
      "metadata": {
        "id": "xt_Dm38xv6Pl",
        "colab_type": "code",
        "colab": {
          "autoexec": {
            "startup": false,
            "wait_interval": 0
          },
          "output_extras": [
            {
              "item_id": 1
            }
          ],
          "base_uri": "https://localhost:8080/",
          "height": 34
        },
        "outputId": "1fa400fb-3db4-4836-80bb-d4055dea9c5c",
        "executionInfo": {
          "status": "ok",
          "timestamp": 1522916769832,
          "user_tz": -480,
          "elapsed": 2085,
          "user": {
            "displayName": "Tony Yeung",
            "photoUrl": "https://lh3.googleusercontent.com/a/default-user=s128",
            "userId": "102507755674271928464"
          }
        }
      },
      "cell_type": "code",
      "source": [
        "!git clone https://github.com/tonyyeung99/toxic_comments_data.git"
      ],
      "execution_count": 49,
      "outputs": [
        {
          "output_type": "stream",
          "text": [
            "fatal: destination path 'toxic_comments_data' already exists and is not an empty directory.\r\n"
          ],
          "name": "stdout"
        }
      ]
    },
    {
      "metadata": {
        "id": "02hEi72bxv-s",
        "colab_type": "text"
      },
      "cell_type": "markdown",
      "source": [
        "Install the keras library"
      ]
    },
    {
      "metadata": {
        "id": "OcC2R04Ixo7T",
        "colab_type": "code",
        "colab": {
          "autoexec": {
            "startup": false,
            "wait_interval": 0
          }
        }
      },
      "cell_type": "code",
      "source": [
        "!pip install -q keras"
      ],
      "execution_count": 0,
      "outputs": []
    },
    {
      "metadata": {
        "id": "AY5t0CrNx8VD",
        "colab_type": "text"
      },
      "cell_type": "markdown",
      "source": [
        "Import the required libraries"
      ]
    },
    {
      "metadata": {
        "id": "qrX88xW2x9Zr",
        "colab_type": "code",
        "colab": {
          "autoexec": {
            "startup": false,
            "wait_interval": 0
          }
        }
      },
      "cell_type": "code",
      "source": [
        "\n",
        "import sys, os, re, csv, codecs, numpy as np, pandas as pd\n",
        "import matplotlib.pyplot as plt\n",
        "%matplotlib inline\n",
        "\n",
        "import keras\n",
        "from keras.preprocessing.text import Tokenizer\n",
        "from keras.preprocessing.sequence import pad_sequences\n",
        "from keras.layers import Dense, Input, LSTM, Embedding, Dropout, Activation\n",
        "from keras.layers import Bidirectional, GlobalMaxPool1D\n",
        "from keras.models import Model\n",
        "from keras import initializers, regularizers, constraints, optimizers, layers\n"
      ],
      "execution_count": 0,
      "outputs": []
    },
    {
      "metadata": {
        "id": "_u9dJtdwyagj",
        "colab_type": "text"
      },
      "cell_type": "markdown",
      "source": [
        "\n",
        "\n",
        "Read the training data into pandas\n"
      ]
    },
    {
      "metadata": {
        "id": "ZQfbK-LOyNPr",
        "colab_type": "code",
        "colab": {
          "autoexec": {
            "startup": false,
            "wait_interval": 0
          }
        }
      },
      "cell_type": "code",
      "source": [
        " train = pd.read_csv('./toxic_comments_data/train.csv')"
      ],
      "execution_count": 0,
      "outputs": []
    },
    {
      "metadata": {
        "id": "h3k75n9gyx8z",
        "colab_type": "text"
      },
      "cell_type": "markdown",
      "source": [
        "Read the testing data into pandas"
      ]
    },
    {
      "metadata": {
        "id": "DVAJW2-ryw0b",
        "colab_type": "code",
        "colab": {
          "autoexec": {
            "startup": false,
            "wait_interval": 0
          }
        }
      },
      "cell_type": "code",
      "source": [
        "test = pd.read_csv('./toxic_comments_data/test.csv')"
      ],
      "execution_count": 0,
      "outputs": []
    },
    {
      "metadata": {
        "id": "-T9fiMZcy6uS",
        "colab_type": "code",
        "colab": {
          "autoexec": {
            "startup": false,
            "wait_interval": 0
          },
          "output_extras": [
            {
              "item_id": 1
            }
          ],
          "base_uri": "https://localhost:8080/",
          "height": 198
        },
        "outputId": "1dcc539e-5006-41d6-c53d-f1352944aba2",
        "executionInfo": {
          "status": "ok",
          "timestamp": 1522916777585,
          "user_tz": -480,
          "elapsed": 604,
          "user": {
            "displayName": "Tony Yeung",
            "photoUrl": "https://lh3.googleusercontent.com/a/default-user=s128",
            "userId": "102507755674271928464"
          }
        }
      },
      "cell_type": "code",
      "source": [
        "train.head()"
      ],
      "execution_count": 54,
      "outputs": [
        {
          "output_type": "execute_result",
          "data": {
            "text/html": [
              "<div>\n",
              "<style scoped>\n",
              "    .dataframe tbody tr th:only-of-type {\n",
              "        vertical-align: middle;\n",
              "    }\n",
              "\n",
              "    .dataframe tbody tr th {\n",
              "        vertical-align: top;\n",
              "    }\n",
              "\n",
              "    .dataframe thead th {\n",
              "        text-align: right;\n",
              "    }\n",
              "</style>\n",
              "<table border=\"1\" class=\"dataframe\">\n",
              "  <thead>\n",
              "    <tr style=\"text-align: right;\">\n",
              "      <th></th>\n",
              "      <th>id</th>\n",
              "      <th>comment_text</th>\n",
              "      <th>toxic</th>\n",
              "      <th>severe_toxic</th>\n",
              "      <th>obscene</th>\n",
              "      <th>threat</th>\n",
              "      <th>insult</th>\n",
              "      <th>identity_hate</th>\n",
              "    </tr>\n",
              "  </thead>\n",
              "  <tbody>\n",
              "    <tr>\n",
              "      <th>0</th>\n",
              "      <td>0000997932d777bf</td>\n",
              "      <td>Explanation\\nWhy the edits made under my usern...</td>\n",
              "      <td>0</td>\n",
              "      <td>0</td>\n",
              "      <td>0</td>\n",
              "      <td>0</td>\n",
              "      <td>0</td>\n",
              "      <td>0</td>\n",
              "    </tr>\n",
              "    <tr>\n",
              "      <th>1</th>\n",
              "      <td>000103f0d9cfb60f</td>\n",
              "      <td>D'aww! He matches this background colour I'm s...</td>\n",
              "      <td>0</td>\n",
              "      <td>0</td>\n",
              "      <td>0</td>\n",
              "      <td>0</td>\n",
              "      <td>0</td>\n",
              "      <td>0</td>\n",
              "    </tr>\n",
              "    <tr>\n",
              "      <th>2</th>\n",
              "      <td>000113f07ec002fd</td>\n",
              "      <td>Hey man, I'm really not trying to edit war. It...</td>\n",
              "      <td>0</td>\n",
              "      <td>0</td>\n",
              "      <td>0</td>\n",
              "      <td>0</td>\n",
              "      <td>0</td>\n",
              "      <td>0</td>\n",
              "    </tr>\n",
              "    <tr>\n",
              "      <th>3</th>\n",
              "      <td>0001b41b1c6bb37e</td>\n",
              "      <td>\"\\nMore\\nI can't make any real suggestions on ...</td>\n",
              "      <td>0</td>\n",
              "      <td>0</td>\n",
              "      <td>0</td>\n",
              "      <td>0</td>\n",
              "      <td>0</td>\n",
              "      <td>0</td>\n",
              "    </tr>\n",
              "    <tr>\n",
              "      <th>4</th>\n",
              "      <td>0001d958c54c6e35</td>\n",
              "      <td>You, sir, are my hero. Any chance you remember...</td>\n",
              "      <td>0</td>\n",
              "      <td>0</td>\n",
              "      <td>0</td>\n",
              "      <td>0</td>\n",
              "      <td>0</td>\n",
              "      <td>0</td>\n",
              "    </tr>\n",
              "  </tbody>\n",
              "</table>\n",
              "</div>"
            ],
            "text/plain": [
              "                 id                                       comment_text  toxic  \\\n",
              "0  0000997932d777bf  Explanation\\nWhy the edits made under my usern...      0   \n",
              "1  000103f0d9cfb60f  D'aww! He matches this background colour I'm s...      0   \n",
              "2  000113f07ec002fd  Hey man, I'm really not trying to edit war. It...      0   \n",
              "3  0001b41b1c6bb37e  \"\\nMore\\nI can't make any real suggestions on ...      0   \n",
              "4  0001d958c54c6e35  You, sir, are my hero. Any chance you remember...      0   \n",
              "\n",
              "   severe_toxic  obscene  threat  insult  identity_hate  \n",
              "0             0        0       0       0              0  \n",
              "1             0        0       0       0              0  \n",
              "2             0        0       0       0              0  \n",
              "3             0        0       0       0              0  \n",
              "4             0        0       0       0              0  "
            ]
          },
          "metadata": {
            "tags": []
          },
          "execution_count": 54
        }
      ]
    },
    {
      "metadata": {
        "id": "YAtGdoqozEO6",
        "colab_type": "code",
        "colab": {
          "autoexec": {
            "startup": false,
            "wait_interval": 0
          },
          "output_extras": [
            {
              "item_id": 1
            }
          ],
          "base_uri": "https://localhost:8080/",
          "height": 212
        },
        "outputId": "f5d76f43-76f5-4d52-92c0-e6591d1a8a3a",
        "executionInfo": {
          "status": "ok",
          "timestamp": 1522916778263,
          "user_tz": -480,
          "elapsed": 610,
          "user": {
            "displayName": "Tony Yeung",
            "photoUrl": "https://lh3.googleusercontent.com/a/default-user=s128",
            "userId": "102507755674271928464"
          }
        }
      },
      "cell_type": "code",
      "source": [
        "train.isnull().any(),test.isnull().any()"
      ],
      "execution_count": 55,
      "outputs": [
        {
          "output_type": "execute_result",
          "data": {
            "text/plain": [
              "(id               False\n",
              " comment_text     False\n",
              " toxic            False\n",
              " severe_toxic     False\n",
              " obscene          False\n",
              " threat           False\n",
              " insult           False\n",
              " identity_hate    False\n",
              " dtype: bool, id              False\n",
              " comment_text    False\n",
              " dtype: bool)"
            ]
          },
          "metadata": {
            "tags": []
          },
          "execution_count": 55
        }
      ]
    },
    {
      "metadata": {
        "id": "4JuBtpKVzavi",
        "colab_type": "text"
      },
      "cell_type": "markdown",
      "source": [
        "As you can see from the sneak peek, the dependent variables are in the training set itself so we need to split them up, into X and Y sets."
      ]
    },
    {
      "metadata": {
        "id": "amVwTz0rzLAq",
        "colab_type": "code",
        "colab": {
          "autoexec": {
            "startup": false,
            "wait_interval": 0
          }
        }
      },
      "cell_type": "code",
      "source": [
        "list_classes = [\"toxic\", \"severe_toxic\", \"obscene\", \"threat\", \"insult\", \"identity_hate\"]\n",
        "y = train[list_classes].values\n",
        "list_sentences_train = train[\"comment_text\"]\n",
        "list_sentences_test = test[\"comment_text\"]"
      ],
      "execution_count": 0,
      "outputs": []
    },
    {
      "metadata": {
        "id": "c0qixl5kziYh",
        "colab_type": "text"
      },
      "cell_type": "markdown",
      "source": [
        "The approach that we are taking is to feed the comments into the LSTM as part of the neural network but we can't just feed the words as it is. \n",
        "\n",
        "So this is what we are going to do:\n",
        "1. Tokenization - We need to break down the sentence into unique words. \n",
        "    For eg, \"I love cats and love dogs\" will become [\"I\",\"love\",\"cats\",\"and\",\"dogs\"]\n",
        "2. Indexing - We put the words in a dictionary-like structure and give them an index each\n",
        "    For eg, {1:\"I\",2:\"love\",3:\"cats\",4:\"and\",5:\"dogs\"}\n",
        "3. Index Representation- We could represent the sequence of words in the comments in the form of index, and feed this chain of index into our LSTM.\n",
        "    For eg, [1,2,3,4,2,5] "
      ]
    },
    {
      "metadata": {
        "id": "KvWOHoGYzsmh",
        "colab_type": "text"
      },
      "cell_type": "markdown",
      "source": [
        "Fortunately, Keras has made our lives so much easier. If you are using the vanilla Tensorflow, you probably need to implement your own dictionary structure and handle the indexing yourself. In Keras, all the above steps can be done in 4 lines of code. Note that we have to define the number of unique words in our dictionary when tokenizing the sentences.\n",
        "\n"
      ]
    },
    {
      "metadata": {
        "id": "cm-cQpv4zhEK",
        "colab_type": "code",
        "colab": {
          "autoexec": {
            "startup": false,
            "wait_interval": 0
          }
        }
      },
      "cell_type": "code",
      "source": [
        "max_features = 20000\n",
        "tokenizer = Tokenizer(num_words=max_features)\n",
        "tokenizer.fit_on_texts(list(list_sentences_train))\n",
        "list_tokenized_train = tokenizer.texts_to_sequences(list_sentences_train)\n",
        "list_tokenized_test = tokenizer.texts_to_sequences(list_sentences_test)"
      ],
      "execution_count": 0,
      "outputs": []
    },
    {
      "metadata": {
        "id": "IjnExXX0z2ID",
        "colab_type": "text"
      },
      "cell_type": "markdown",
      "source": [
        "Now, if you look at \"list_tokenized_train\", you will see that Keras has turned our words into index representation for us"
      ]
    },
    {
      "metadata": {
        "id": "MzmIiCtHzv06",
        "colab_type": "code",
        "colab": {
          "autoexec": {
            "startup": false,
            "wait_interval": 0
          },
          "output_extras": [
            {
              "item_id": 1
            }
          ],
          "base_uri": "https://localhost:8080/",
          "height": 852
        },
        "outputId": "ac9c2a3e-73cd-45b5-b3e3-0b188f113b55",
        "executionInfo": {
          "status": "ok",
          "timestamp": 1522916809195,
          "user_tz": -480,
          "elapsed": 657,
          "user": {
            "displayName": "Tony Yeung",
            "photoUrl": "https://lh3.googleusercontent.com/a/default-user=s128",
            "userId": "102507755674271928464"
          }
        }
      },
      "cell_type": "code",
      "source": [
        "list_tokenized_train[:1]"
      ],
      "execution_count": 58,
      "outputs": [
        {
          "output_type": "execute_result",
          "data": {
            "text/plain": [
              "[[688,\n",
              "  75,\n",
              "  1,\n",
              "  126,\n",
              "  130,\n",
              "  177,\n",
              "  29,\n",
              "  672,\n",
              "  4511,\n",
              "  12052,\n",
              "  1116,\n",
              "  86,\n",
              "  331,\n",
              "  51,\n",
              "  2278,\n",
              "  11448,\n",
              "  50,\n",
              "  6864,\n",
              "  15,\n",
              "  60,\n",
              "  2756,\n",
              "  148,\n",
              "  7,\n",
              "  2937,\n",
              "  34,\n",
              "  117,\n",
              "  1221,\n",
              "  15190,\n",
              "  2825,\n",
              "  4,\n",
              "  45,\n",
              "  59,\n",
              "  244,\n",
              "  1,\n",
              "  365,\n",
              "  31,\n",
              "  1,\n",
              "  38,\n",
              "  27,\n",
              "  143,\n",
              "  73,\n",
              "  3462,\n",
              "  89,\n",
              "  3085,\n",
              "  4583,\n",
              "  2273,\n",
              "  985]]"
            ]
          },
          "metadata": {
            "tags": []
          },
          "execution_count": 58
        }
      ]
    },
    {
      "metadata": {
        "id": "La_oswbv0Aox",
        "colab_type": "text"
      },
      "cell_type": "markdown",
      "source": [
        "But there's still 1 problem! What if some comments are terribly long, while some are just 1 word? Wouldn't our indexed-sentence look like this:\n",
        "   \n",
        "   Comment #1: [8,9,3,7,3,6,3,6,3,6,2,3,4,9]\n",
        "  \n",
        "  Comment #2: [1,2]\n",
        "\n",
        "And we have to feed a stream of data that has a consistent length(fixed number of features) isn't it?"
      ]
    },
    {
      "metadata": {
        "id": "Z-zsTSPj0E2w",
        "colab_type": "text"
      },
      "cell_type": "markdown",
      "source": [
        "And this is why we use \"padding\"! We could make the shorter sentences as long as the others by filling the shortfall by zeros.But on the other hand, we also have to trim the longer ones to the same length(maxlen) as the short ones. In this case, we have set the max length to be 200."
      ]
    },
    {
      "metadata": {
        "id": "IS4_tJCE0F15",
        "colab_type": "code",
        "colab": {
          "autoexec": {
            "startup": false,
            "wait_interval": 0
          }
        }
      },
      "cell_type": "code",
      "source": [
        "maxlen = 200\n",
        "X_t = pad_sequences(list_tokenized_train, maxlen=maxlen)\n",
        "X_te = pad_sequences(list_tokenized_test, maxlen=maxlen)"
      ],
      "execution_count": 0,
      "outputs": []
    },
    {
      "metadata": {
        "id": "sGKohY2e0KMw",
        "colab_type": "text"
      },
      "cell_type": "markdown",
      "source": [
        "How do you know what is the best \"maxlen\" to set? If you put it too short, you might lose some useful feature that could cost you some accuracy points down the path.If you put it too long, your LSTM cell will have to be larger to store the possible values or states.\n",
        "\n",
        "One of the ways to go about it is to see the distribution of the number of words in sentences."
      ]
    },
    {
      "metadata": {
        "id": "0_EWqe0Dz6di",
        "colab_type": "code",
        "colab": {
          "autoexec": {
            "startup": false,
            "wait_interval": 0
          },
          "output_extras": [
            {
              "item_id": 1
            }
          ],
          "base_uri": "https://localhost:8080/",
          "height": 141
        },
        "outputId": "669d35ad-155d-47b3-909b-fafe29f45aa0",
        "executionInfo": {
          "status": "ok",
          "timestamp": 1522916813802,
          "user_tz": -480,
          "elapsed": 629,
          "user": {
            "displayName": "Tony Yeung",
            "photoUrl": "https://lh3.googleusercontent.com/a/default-user=s128",
            "userId": "102507755674271928464"
          }
        }
      },
      "cell_type": "code",
      "source": [
        "print(X_t[:,195:200])"
      ],
      "execution_count": 60,
      "outputs": [
        {
          "output_type": "stream",
          "text": [
            "[[   89  3085  4583  2273   985]\n",
            " [ 2679   992   589  8377   182]\n",
            " [ 2394    93     1   737   468]\n",
            " ...\n",
            " [   12  8167  3509 13675  4528]\n",
            " [    9     7   151    34    11]\n",
            " [  363     3  1627  2056    88]]\n"
          ],
          "name": "stdout"
        }
      ]
    },
    {
      "metadata": {
        "id": "ScYagZ4K0QaY",
        "colab_type": "code",
        "colab": {
          "autoexec": {
            "startup": false,
            "wait_interval": 0
          }
        }
      },
      "cell_type": "code",
      "source": [
        "totalNumWords = [len(one_comment) for one_comment in list_tokenized_train]"
      ],
      "execution_count": 0,
      "outputs": []
    },
    {
      "metadata": {
        "id": "mgir0fSf0UHB",
        "colab_type": "code",
        "colab": {
          "autoexec": {
            "startup": false,
            "wait_interval": 0
          },
          "output_extras": [
            {
              "item_id": 1
            }
          ],
          "base_uri": "https://localhost:8080/",
          "height": 264
        },
        "outputId": "43dd08dd-9872-4884-b8bd-d956df3c0150",
        "executionInfo": {
          "status": "ok",
          "timestamp": 1522916815394,
          "user_tz": -480,
          "elapsed": 866,
          "user": {
            "displayName": "Tony Yeung",
            "photoUrl": "https://lh3.googleusercontent.com/a/default-user=s128",
            "userId": "102507755674271928464"
          }
        }
      },
      "cell_type": "code",
      "source": [
        "plt.hist(totalNumWords,bins = np.arange(0,410,10))#[0,50,100,150,200,250,300,350,400])#,450,500,550,600,650,700,750,800,850,900])\n",
        "plt.show()"
      ],
      "execution_count": 62,
      "outputs": [
        {
          "output_type": "display_data",
          "data": {
            "image/png": "[encoded data removed]",
            "text/plain": [
              "<matplotlib.figure.Figure at 0x7f7160ee52e8>"
            ]
          },
          "metadata": {
            "tags": []
          }
        }
      ]
    },
    {
      "metadata": {
        "id": "OBNLbo2x0YIZ",
        "colab_type": "text"
      },
      "cell_type": "markdown",
      "source": [
        "As we can see, most of the sentence length is about 30+. We could set the \"maxlen\" to about 50, but I'm being paranoid so I have set to 200. Then again, it sounds like something you could experiment and see what is the magic number."
      ]
    },
    {
      "metadata": {
        "id": "k7fjLMoS0bdB",
        "colab_type": "text"
      },
      "cell_type": "markdown",
      "source": [
        "This is the architecture of the model we are trying to build. It's always to good idea to list out the dimensions of each layer in the model to think visually and help you to debug later on.\n",
        "![](https://i.imgur.com/txJomEa.png)"
      ]
    },
    {
      "metadata": {
        "id": "rrD5LWbq0fjp",
        "colab_type": "text"
      },
      "cell_type": "markdown",
      "source": [
        "As mentioned earlier, the inputs into our networks are our list of encoded sentences. We begin our defining an Input layer that accepts a list of sentences that has a dimension of 200.\n",
        "![](https://i.imgur.com/uSjU4J7.png)\n",
        "By indicating an empty space after comma, we are telling Keras to infer the number automatically."
      ]
    },
    {
      "metadata": {
        "id": "UZCmbOeh0WD6",
        "colab_type": "code",
        "colab": {
          "autoexec": {
            "startup": false,
            "wait_interval": 0
          }
        }
      },
      "cell_type": "code",
      "source": [
        "inp = Input(shape=(maxlen, )) #maxlen=200 as defined earlier"
      ],
      "execution_count": 0,
      "outputs": []
    },
    {
      "metadata": {
        "id": "9xuk4QYm0nZR",
        "colab_type": "text"
      },
      "cell_type": "markdown",
      "source": [
        "Next, we pass it to our Embedding layer, where we project the words to a defined vector space depending on the distance of the surrounding words in a sentence. Embedding allows us to reduce model size and most importantly the huge dimensions we have to deal with, in the case of using one-hot encoding to represent the words in our sentence.\n",
        "![](https://www.tensorflow.org/versions/r0.12/images/embedding-custom-projection.png)\n",
        "The output of the Embedding layer is just a list of the coordinates of the words in this vector space. For eg. (-81.012) for \"cat\" and  (-80.012) for \"dog\". We could also use the distance of these coordinates to detect relevance and context. Embedding is a pretty deep topic, and if you are interested, this is a comprehensive guide: https://www.analyticsvidhya.com/blog/2017/06/word-embeddings-count-word2veec/"
      ]
    },
    {
      "metadata": {
        "id": "qUZD4VZO0rtR",
        "colab_type": "text"
      },
      "cell_type": "markdown",
      "source": [
        "We need to define the size of the \"vector space\" we have mentioned above, and the number of unique words(max_features) we are using. Again, the embedding size is a parameter that you can tune and experiment."
      ]
    },
    {
      "metadata": {
        "id": "0k_r8T3y0l15",
        "colab_type": "code",
        "colab": {
          "autoexec": {
            "startup": false,
            "wait_interval": 0
          }
        }
      },
      "cell_type": "code",
      "source": [
        "embed_size = 128\n",
        "x = Embedding(max_features, embed_size)(inp)"
      ],
      "execution_count": 0,
      "outputs": []
    },
    {
      "metadata": {
        "id": "yKKPBBQS02Ao",
        "colab_type": "text"
      },
      "cell_type": "markdown",
      "source": [
        "The embedding layer outputs a 3-D tensor of (None, 200, 128). Which is an array of sentence(None means that it's size is inferred), and for each words(200), there is an array of 128 coordinates in the vector space of embedding. "
      ]
    },
    {
      "metadata": {
        "id": "2pEqjfm507Mw",
        "colab_type": "text"
      },
      "cell_type": "markdown",
      "source": [
        "Next, we feed this Tensor into the LSTM layer. We set the LSTM to produce an output that has a dimension of 60 and want it to return the whole unrolled sequence of results. As you probably know, LSTM or RNN works by recursively feeding the output of a previous network into the input of the current network, and you would take the final output after X number of recursion. But depending on use cases, you might want to take the unrolled, or the outputs of each recursion as the result to pass to the next layer. And this is the case."
      ]
    },
    {
      "metadata": {
        "id": "__3l3gmf0-ts",
        "colab_type": "text"
      },
      "cell_type": "markdown",
      "source": [
        "![](http://colah.github.io/posts/2015-08-Understanding-LSTMs/img/RNN-unrolled.png)"
      ]
    },
    {
      "metadata": {
        "id": "cU1C1azs1B9i",
        "colab_type": "text"
      },
      "cell_type": "markdown",
      "source": [
        "From the short line of code that defines the LSTM layer, it's easy to miss the required input dimensions. LSTM takes in a tensor of [Batch Size, Time Steps, Number of Inputs]. Batch size is the number of samples in a batch, time steps is the number of recursion it runs for each input, or it could be pictured as the number of \"A\"s in the above picture. Lastly, number of inputs is the number of variables(number of words in each sentence in our case) you pass into LSTM as pictured in \"x\" above."
      ]
    },
    {
      "metadata": {
        "id": "KiUXw1v_1Gvy",
        "colab_type": "text"
      },
      "cell_type": "markdown",
      "source": [
        "We can make use of the output from the previous embedding layer which outputs a 3-D tensor of (None, 200, 128) into the LSTM layer. What it does is going through the samples, recursively run the LSTM model for 200 times, passing in the coordinates of the words each time. And because we want the unrolled version, we will receive a Tensor shape of (None, 200, 60), where 60 is the output dimension we have defined."
      ]
    },
    {
      "metadata": {
        "id": "bsb4obQf1Iry",
        "colab_type": "code",
        "colab": {
          "autoexec": {
            "startup": false,
            "wait_interval": 0
          }
        }
      },
      "cell_type": "code",
      "source": [
        "x = LSTM(60, return_sequences=True,name='lstm_layer')(x)"
      ],
      "execution_count": 0,
      "outputs": []
    },
    {
      "metadata": {
        "id": "qtKrM_-N1Nik",
        "colab_type": "text"
      },
      "cell_type": "markdown",
      "source": [
        "Before we could pass the output to a normal layer, we need to reshape the 3D tensor into a 2D one. We reshape carefully to avoid throwing away data that is important to us, and ideally we want the resulting data to be a good representative of the original data.\n",
        "\n",
        "Therefore, we use a Global Max Pooling layer which is traditionally used in CNN problems to reduce the dimensionality of image data. In simple terms, we go through each patch of data, and we take the maximum values of each patch. These collection of maximum values will be a new set of down-sized data we can use.\n",
        "\n",
        "As you can see from other Kaggle kernels, different variants (Average,Max,etc) of pooling layers are used for dimensionality reduction and they could yield different results so do try them out.\n",
        "\n",
        "If you are interested in finding out the technical details of pooling, read up here: https://wiseodd.github.io/techblog/2016/07/18/convnet-maxpool-layer/"
      ]
    },
    {
      "metadata": {
        "id": "y2iIZc_R01Ox",
        "colab_type": "code",
        "colab": {
          "autoexec": {
            "startup": false,
            "wait_interval": 0
          }
        }
      },
      "cell_type": "code",
      "source": [
        "x = GlobalMaxPool1D()(x)"
      ],
      "execution_count": 0,
      "outputs": []
    },
    {
      "metadata": {
        "id": "EULKP4HC1RNx",
        "colab_type": "text"
      },
      "cell_type": "markdown",
      "source": [
        "With a 2D Tensor in our hands, we pass it to a Dropout layer which indiscriminately \"disable\" some nodes so that the nodes in the next layer is forced to handle the representation of the missing data and the whole network could result in better generalization.\n",
        "![](https://leonardoaraujosantos.gitbooks.io/artificial-inteligence/content/image_folder_5/dropout.jpeg)\n",
        "\n",
        "We set the dropout layer to drop out 10%(0.1) of the nodes."
      ]
    },
    {
      "metadata": {
        "id": "KxLoVemj1WJh",
        "colab_type": "code",
        "colab": {
          "autoexec": {
            "startup": false,
            "wait_interval": 0
          }
        }
      },
      "cell_type": "code",
      "source": [
        "x = Dropout(0.1)(x)"
      ],
      "execution_count": 0,
      "outputs": []
    },
    {
      "metadata": {
        "id": "JIzwV08R1ZsB",
        "colab_type": "text"
      },
      "cell_type": "markdown",
      "source": [
        "After a drop out layer, we connect the output of drop out layer to a densely connected layer and the output passes through a RELU function. In short, this is what it does:\n",
        "\n",
        "**Activation( (Input X Weights) + Bias)**\n",
        "\n",
        "all in 1 line, with the weights, bias and activation layer all set up for you! \n",
        "We have defined the Dense layer to produce a output dimension of 50."
      ]
    },
    {
      "metadata": {
        "id": "zP6cg13r1aN5",
        "colab_type": "code",
        "colab": {
          "autoexec": {
            "startup": false,
            "wait_interval": 0
          }
        }
      },
      "cell_type": "code",
      "source": [
        "x = Dense(50, activation=\"relu\")(x)"
      ],
      "execution_count": 0,
      "outputs": []
    },
    {
      "metadata": {
        "id": "ocRdtN2P1cwC",
        "colab_type": "text"
      },
      "cell_type": "markdown",
      "source": [
        "We feed the output into a Dropout layer again."
      ]
    },
    {
      "metadata": {
        "id": "PTdGNQN01ekK",
        "colab_type": "code",
        "colab": {
          "autoexec": {
            "startup": false,
            "wait_interval": 0
          }
        }
      },
      "cell_type": "code",
      "source": [
        "x = Dropout(0.1)(x)"
      ],
      "execution_count": 0,
      "outputs": []
    },
    {
      "metadata": {
        "id": "oYKq-so-1gkJ",
        "colab_type": "text"
      },
      "cell_type": "markdown",
      "source": [
        "Finally, we feed the output into a Sigmoid layer. The reason why sigmoid is used is because we are trying to achieve a binary classification(1,0) for each of the 6 labels, and the sigmoid function will squash the output between the bounds of 0 and 1."
      ]
    },
    {
      "metadata": {
        "id": "X6yOSs4D1iwy",
        "colab_type": "code",
        "colab": {
          "autoexec": {
            "startup": false,
            "wait_interval": 0
          }
        }
      },
      "cell_type": "code",
      "source": [
        "x = Dense(6, activation=\"sigmoid\")(x)"
      ],
      "execution_count": 0,
      "outputs": []
    },
    {
      "metadata": {
        "id": "zg7JDsH21lJ6",
        "colab_type": "text"
      },
      "cell_type": "markdown",
      "source": [
        "We are almost done! All is left is to define the inputs, outputs and configure the learning process. We have set our model to optimize our loss function using Adam optimizer, define the loss function to be \"binary_crossentropy\" since we are tackling a binary classification. In case you are looking for the learning rate, the default is set at 0.001."
      ]
    },
    {
      "metadata": {
        "id": "pEc9eD6h1nDZ",
        "colab_type": "code",
        "colab": {
          "autoexec": {
            "startup": false,
            "wait_interval": 0
          }
        }
      },
      "cell_type": "code",
      "source": [
        "model = Model(inputs=inp, outputs=x)\n",
        "model.compile(loss='binary_crossentropy',\n",
        "                  optimizer='adam',\n",
        "                  metrics=['accuracy'])"
      ],
      "execution_count": 0,
      "outputs": []
    },
    {
      "metadata": {
        "id": "sH9IpcuB1o1y",
        "colab_type": "text"
      },
      "cell_type": "markdown",
      "source": [
        "The moment that we have been waiting for as arrived! It's finally time to put our model to the test. We'll feed in a list of 32 padded, indexed sentence for each batch and split 10% of the data as a validation set. This validation set will be used to assess whether the model has overfitted, for each batch. The model will also run for 2 epochs. These are some of the tunable parameters that you can experiment with, to see if you can push the accurate to the next level without crashing your machine(hence the batch size)."
      ]
    },
    {
      "metadata": {
        "id": "FdlKKCoa1rdy",
        "colab_type": "code",
        "colab": {
          "autoexec": {
            "startup": false,
            "wait_interval": 0
          },
          "output_extras": [
            {
              "item_id": 671
            },
            {
              "item_id": 4486
            },
            {
              "item_id": 4804
            },
            {
              "item_id": 8975
            },
            {
              "item_id": 8976
            },
            {
              "item_id": 8977
            }
          ],
          "base_uri": "https://localhost:8080/",
          "height": 143
        },
        "outputId": "f8114538-3971-4889-cd71-87bd08c87020",
        "executionInfo": {
          "status": "ok",
          "timestamp": 1522921504525,
          "user_tz": -480,
          "elapsed": 4682498,
          "user": {
            "displayName": "Tony Yeung",
            "photoUrl": "https://lh3.googleusercontent.com/a/default-user=s128",
            "userId": "102507755674271928464"
          }
        }
      },
      "cell_type": "code",
      "source": [
        "batch_size = 32\n",
        "epochs = 2\n",
        "model.fit(X_t,y, batch_size=batch_size, epochs=epochs, validation_split=0.1)"
      ],
      "execution_count": 72,
      "outputs": [
        {
          "output_type": "stream",
          "text": [
            "Train on 143613 samples, validate on 15958 samples\n",
            "Epoch 1/2\n",
            " 21440/143613 [===>..........................] - ETA: 32:16 - loss: 0.1434 - acc: 0.9626"
          ],
          "name": "stdout"
        },
        {
          "output_type": "stream",
          "text": [
            "143584/143613 [============================>.] - ETA: 0s - loss: 0.0673 - acc: 0.9781"
          ],
          "name": "stdout"
        },
        {
          "output_type": "stream",
          "text": [
            "\b\b\b\b\b\b\b\b\b\b\b\b\b\b\b\b\b\b\b\b\b\b\b\b\b\b\b\b\b\b\b\b\b\b\b\b\b\b\b\b\b\b\b\b\b\b\b\b\b\b\b\b\b\b\b\b\b\b\b\b\b\b\b\b\b\b\b\b\b\b\b\b\b\b\b\b\b\b\b\b\b\b\b\b\b\r143613/143613 [==============================] - 2331s 16ms/step - loss: 0.0673 - acc: 0.9781 - val_loss: 0.0501 - val_acc: 0.9817\n",
            "Epoch 2/2\n",
            " 10112/143613 [=>............................] - ETA: 35:27 - loss: 0.0447 - acc: 0.9836"
          ],
          "name": "stdout"
        },
        {
          "output_type": "stream",
          "text": [
            "143584/143613 [============================>.] - ETA: 0s - loss: 0.0450 - acc: 0.9832"
          ],
          "name": "stdout"
        },
        {
          "output_type": "stream",
          "text": [
            "\b\b\b\b\b\b\b\b\b\b\b\b\b\b\b\b\b\b\b\b\b\b\b\b\b\b\b\b\b\b\b\b\b\b\b\b\b\b\b\b\b\b\b\b\b\b\b\b\b\b\b\b\b\b\b\b\b\b\b\b\b\b\b\b\b\b\b\b\b\b\b\b\b\b\b\b\b\b\b\b\b\b\b\b\b\r143613/143613 [==============================] - 2350s 16ms/step - loss: 0.0450 - acc: 0.9832 - val_loss: 0.0481 - val_acc: 0.9823\n"
          ],
          "name": "stdout"
        },
        {
          "output_type": "execute_result",
          "data": {
            "text/plain": [
              "<keras.callbacks.History at 0x7f7169489710>"
            ]
          },
          "metadata": {
            "tags": []
          },
          "execution_count": 72
        }
      ]
    },
    {
      "metadata": {
        "id": "ssFnlDUg1z6x",
        "colab_type": "text"
      },
      "cell_type": "markdown",
      "source": [
        "Seems that the accuracy is pretty decent for a basic attempt! There's a lot that you could do (see TODO below) to further improve the accuracy so feel free to fork the kernel and experiment for yourself!\n",
        "\n",
        "Tony Yeung\n",
        "Additional tips and tricks\n",
        "\n",
        "1) If you have hit some roadblocks, especially when it starts returning dimension related errors, a good idea is to run \"model.summary()\" because it lists out all your layer outputs, which is pretty useful for diagnosis.\n",
        "\n"
      ]
    },
    {
      "metadata": {
        "id": "ULD67fuJ11oC",
        "colab_type": "code",
        "colab": {
          "autoexec": {
            "startup": false,
            "wait_interval": 0
          },
          "output_extras": [
            {
              "item_id": 1
            }
          ],
          "base_uri": "https://localhost:8080/",
          "height": 425
        },
        "outputId": "68dee352-19af-4b24-88cd-f38d9986e4a5",
        "executionInfo": {
          "status": "ok",
          "timestamp": 1522921505923,
          "user_tz": -480,
          "elapsed": 1369,
          "user": {
            "displayName": "Tony Yeung",
            "photoUrl": "https://lh3.googleusercontent.com/a/default-user=s128",
            "userId": "102507755674271928464"
          }
        }
      },
      "cell_type": "code",
      "source": [
        "model.summary()"
      ],
      "execution_count": 73,
      "outputs": [
        {
          "output_type": "stream",
          "text": [
            "_________________________________________________________________\n",
            "Layer (type)                 Output Shape              Param #   \n",
            "=================================================================\n",
            "input_3 (InputLayer)         (None, 200)               0         \n",
            "_________________________________________________________________\n",
            "embedding_3 (Embedding)      (None, 200, 128)          2560000   \n",
            "_________________________________________________________________\n",
            "lstm_layer (LSTM)            (None, 200, 60)           45360     \n",
            "_________________________________________________________________\n",
            "global_max_pooling1d_2 (Glob (None, 60)                0         \n",
            "_________________________________________________________________\n",
            "dropout_3 (Dropout)          (None, 60)                0         \n",
            "_________________________________________________________________\n",
            "dense_3 (Dense)              (None, 50)                3050      \n",
            "_________________________________________________________________\n",
            "dropout_4 (Dropout)          (None, 50)                0         \n",
            "_________________________________________________________________\n",
            "dense_4 (Dense)              (None, 6)                 306       \n",
            "=================================================================\n",
            "Total params: 2,608,716\n",
            "Trainable params: 2,608,716\n",
            "Non-trainable params: 0\n",
            "_________________________________________________________________\n"
          ],
          "name": "stdout"
        }
      ]
    },
    {
      "metadata": {
        "id": "xgBVwHoT13Gh",
        "colab_type": "text"
      },
      "cell_type": "markdown",
      "source": [
        "Saving Model"
      ]
    },
    {
      "metadata": {
        "id": "h69hAh0t15Hp",
        "colab_type": "code",
        "colab": {
          "autoexec": {
            "startup": false,
            "wait_interval": 0
          }
        }
      },
      "cell_type": "code",
      "source": [
        "model_json = model.to_json()"
      ],
      "execution_count": 0,
      "outputs": []
    },
    {
      "metadata": {
        "id": "5xG-3WI71-yl",
        "colab_type": "code",
        "colab": {
          "autoexec": {
            "startup": false,
            "wait_interval": 0
          }
        }
      },
      "cell_type": "code",
      "source": [
        "with open(\"model_toxic_comment1.json\", \"w\") as json_file:\n",
        "    json_file.write(model_json)"
      ],
      "execution_count": 0,
      "outputs": []
    },
    {
      "metadata": {
        "id": "NaDbSW4E2AoB",
        "colab_type": "code",
        "colab": {
          "autoexec": {
            "startup": false,
            "wait_interval": 0
          },
          "output_extras": [
            {
              "item_id": 1
            }
          ],
          "base_uri": "https://localhost:8080/",
          "height": 34
        },
        "outputId": "95305926-c1a7-43f5-8873-2c989096c96e",
        "executionInfo": {
          "status": "ok",
          "timestamp": 1522921508779,
          "user_tz": -480,
          "elapsed": 615,
          "user": {
            "displayName": "Tony Yeung",
            "photoUrl": "https://lh3.googleusercontent.com/a/default-user=s128",
            "userId": "102507755674271928464"
          }
        }
      },
      "cell_type": "code",
      "source": [
        "model.save_weights(\"model_toxic_com.h5\")\n",
        "print(\"Saved model to disk\")"
      ],
      "execution_count": 76,
      "outputs": [
        {
          "output_type": "stream",
          "text": [
            "Saved model to disk\n"
          ],
          "name": "stdout"
        }
      ]
    },
    {
      "metadata": {
        "id": "9d6Q5naD1_Vi",
        "colab_type": "code",
        "colab": {
          "autoexec": {
            "startup": false,
            "wait_interval": 0
          },
          "output_extras": [
            {
              "item_id": 1
            }
          ],
          "base_uri": "https://localhost:8080/",
          "height": 34
        },
        "outputId": "e6ecd8eb-85c3-4eea-815c-9ab69126ac06",
        "executionInfo": {
          "status": "ok",
          "timestamp": 1522921510849,
          "user_tz": -480,
          "elapsed": 2010,
          "user": {
            "displayName": "Tony Yeung",
            "photoUrl": "https://lh3.googleusercontent.com/a/default-user=s128",
            "userId": "102507755674271928464"
          }
        }
      },
      "cell_type": "code",
      "source": [
        "!ls"
      ],
      "execution_count": 77,
      "outputs": [
        {
          "output_type": "stream",
          "text": [
            "datalab  model_toxic_com.h5  model_toxic_comment1.json\ttoxic_comments_data\r\n"
          ],
          "name": "stdout"
        }
      ]
    },
    {
      "metadata": {
        "id": "P1SvmCLL2EER",
        "colab_type": "code",
        "colab": {
          "autoexec": {
            "startup": false,
            "wait_interval": 0
          }
        }
      },
      "cell_type": "code",
      "source": [
        "from google.colab import files\n",
        "\n",
        "\n",
        "files.download('model_toxic_comment1.json')"
      ],
      "execution_count": 0,
      "outputs": []
    },
    {
      "metadata": {
        "id": "qkQ_EI-42FsB",
        "colab_type": "code",
        "colab": {
          "autoexec": {
            "startup": false,
            "wait_interval": 0
          }
        }
      },
      "cell_type": "code",
      "source": [
        "from google.colab import files\n",
        "\n",
        "\n",
        "files.download('model_toxic_com.h5')"
      ],
      "execution_count": 0,
      "outputs": []
    },
    {
      "metadata": {
        "id": "bpuM-Cek2G-1",
        "colab_type": "text"
      },
      "cell_type": "markdown",
      "source": [
        "** Prediction on test data set **"
      ]
    },
    {
      "metadata": {
        "id": "AxGgybqW2dWU",
        "colab_type": "code",
        "colab": {
          "autoexec": {
            "startup": false,
            "wait_interval": 0
          },
          "output_extras": [
            {
              "item_id": 2358
            },
            {
              "item_id": 2359
            }
          ],
          "base_uri": "https://localhost:8080/",
          "height": 265
        },
        "outputId": "c56bc596-5307-4837-c2e6-53ea5f37ed8c",
        "executionInfo": {
          "status": "ok",
          "timestamp": 1522922126641,
          "user_tz": -480,
          "elapsed": 600609,
          "user": {
            "displayName": "Tony Yeung",
            "photoUrl": "https://lh3.googleusercontent.com/a/default-user=s128",
            "userId": "102507755674271928464"
          }
        }
      },
      "cell_type": "code",
      "source": [
        "result = model.predict(X_te, verbose=1)\n",
        "print(result)"
      ],
      "execution_count": 80,
      "outputs": [
        {
          "output_type": "stream",
          "text": [
            "153164/153164 [==============================] - 600s 4ms/step\n"
          ],
          "name": "stdout"
        },
        {
          "output_type": "stream",
          "text": [
            "[[9.9724448e-01 4.3195441e-01 9.5644677e-01 8.7601312e-02 8.8529748e-01\n",
            "  2.4859767e-01]\n",
            " [5.0826749e-04 1.5676932e-06 1.2643900e-04 5.1640350e-06 7.0075024e-05\n",
            "  1.1053576e-05]\n",
            " [6.7710772e-04 3.3648005e-06 2.2195982e-04 8.5568827e-06 1.0601489e-04\n",
            "  1.6545477e-05]\n",
            " ...\n",
            " [2.5365045e-04 2.4982828e-07 5.5664721e-05 4.2332664e-07 2.6941489e-05\n",
            "  2.8839695e-06]\n",
            " [1.1085016e-03 2.7606511e-06 1.9176454e-04 5.2731830e-06 1.6934583e-04\n",
            "  3.1526259e-05]\n",
            " [9.2486382e-01 1.5902482e-02 7.3401499e-01 4.0345928e-03 4.1454133e-01\n",
            "  1.3012709e-02]]\n"
          ],
          "name": "stdout"
        }
      ]
    },
    {
      "metadata": {
        "id": "HloFmu1J2mOP",
        "colab_type": "code",
        "colab": {
          "autoexec": {
            "startup": false,
            "wait_interval": 0
          }
        }
      },
      "cell_type": "code",
      "source": [
        "#class_col = pd.DataFrame({'toxic':result[:,0].tolist(), 'threat':result[:,3].tolist(), 'insult':result[:,4].tolist(), 'identity_hate':result[:,5].tolist()})"
      ],
      "execution_count": 0,
      "outputs": []
    },
    {
      "metadata": {
        "id": "DBbW0TySUnWf",
        "colab_type": "code",
        "colab": {
          "autoexec": {
            "startup": false,
            "wait_interval": 0
          }
        }
      },
      "cell_type": "code",
      "source": [
        "class_col = pd.DataFrame({'toxic':result[:,0].tolist(), 'threat':result[:,3].tolist(), 'insult':result[:,4].tolist(), 'identity_hate':result[:,5].tolist()})"
      ],
      "execution_count": 0,
      "outputs": []
    },
    {
      "metadata": {
        "id": "Nfn6BULE204Q",
        "colab_type": "text"
      },
      "cell_type": "markdown",
      "source": [
        "Adding back the id to the prediction result "
      ]
    },
    {
      "metadata": {
        "id": "1kg87zYt2vBP",
        "colab_type": "code",
        "colab": {
          "autoexec": {
            "startup": false,
            "wait_interval": 0
          }
        }
      },
      "cell_type": "code",
      "source": [
        "id_col = test[\"id\"]\n",
        "frames = [id_col, class_col]\n",
        "#frames = [test, class_col]\n",
        "merged = pd.concat(frames, axis=1)"
      ],
      "execution_count": 0,
      "outputs": []
    },
    {
      "metadata": {
        "id": "4j5C0pEW3Drw",
        "colab_type": "text"
      },
      "cell_type": "markdown",
      "source": [
        "Show the prediction result"
      ]
    },
    {
      "metadata": {
        "id": "gkCRsGO93H5Z",
        "colab_type": "code",
        "colab": {
          "autoexec": {
            "startup": false,
            "wait_interval": 0
          },
          "output_extras": [
            {
              "item_id": 1
            }
          ],
          "base_uri": "https://localhost:8080/",
          "height": 1154
        },
        "outputId": "460f875e-baa9-449f-b870-2f34ab484beb",
        "executionInfo": {
          "status": "ok",
          "timestamp": 1522923644657,
          "user_tz": -480,
          "elapsed": 676,
          "user": {
            "displayName": "Tony Yeung",
            "photoUrl": "https://lh3.googleusercontent.com/a/default-user=s128",
            "userId": "102507755674271928464"
          }
        }
      },
      "cell_type": "code",
      "source": [
        "print(merged)"
      ],
      "execution_count": 86,
      "outputs": [
        {
          "output_type": "stream",
          "text": [
            "                      id  identity_hate    insult        threat     toxic\n",
            "0       00001cee341fdb12   2.485977e-01  0.885297  8.760131e-02  0.997244\n",
            "1       0000247867823ef7   1.105358e-05  0.000070  5.164035e-06  0.000508\n",
            "2       00013b17ad220c46   1.654548e-05  0.000106  8.556883e-06  0.000677\n",
            "3       00017563c3f7919a   4.134432e-06  0.000033  9.772345e-07  0.000303\n",
            "4       00017695ad8997eb   1.041742e-04  0.000515  6.887266e-05  0.003408\n",
            "5       0001ea8717f6de06   1.896083e-05  0.000125  8.774006e-06  0.000931\n",
            "6       00024115d4cbde0f   7.453517e-06  0.000058  2.093894e-06  0.000467\n",
            "7       000247e83dcc1211   2.220315e-02  0.195049  1.274891e-02  0.603675\n",
            "8       00025358d4737918   1.118915e-04  0.001960  1.342996e-05  0.012622\n",
            "9       00026d1092fe71cc   9.717063e-06  0.000095  2.029952e-06  0.000721\n",
            "10      0002eadc3b301559   3.583672e-03  0.054012  1.531297e-03  0.309077\n",
            "11      0002f87b16116a7f   9.832785e-04  0.016106  2.131487e-04  0.079108\n",
            "12      0003806b11932181   1.065027e-05  0.000081  2.261508e-06  0.000633\n",
            "13      0003e1cccfd5a40a   9.030404e-07  0.000008  1.512701e-07  0.000078\n",
            "14      00059ace3e3e9a53   4.866585e-07  0.000004  8.007230e-08  0.000041\n",
            "15      000634272d0d44eb   6.395787e-06  0.000037  2.354428e-06  0.000279\n",
            "16      000663aff0fffc80   2.476280e-04  0.001233  2.171848e-04  0.008003\n",
            "17      000689dd34e20979   5.692220e-06  0.000042  1.838692e-06  0.000338\n",
            "18      000834769115370c   7.837249e-07  0.000007  1.537975e-07  0.000070\n",
            "19      000844b52dee5f3f   3.802440e-04  0.001871  3.367445e-04  0.010592\n",
            "20      00084da5d4ead7aa   9.018670e-05  0.000456  6.303949e-05  0.002991\n",
            "21      00091c35fa9d0465   2.187279e-02  0.103877  7.785901e-03  0.349957\n",
            "22      000968ce11f5ee34   8.325631e-03  0.042633  3.224537e-03  0.223093\n",
            "23      0009734200a85047   1.861331e-06  0.000012  3.701142e-07  0.000095\n",
            "24      00097b6214686db5   1.064294e-03  0.009145  4.278663e-04  0.064744\n",
            "25      0009aef4bd9e1697   1.023593e-06  0.000009  1.515193e-07  0.000073\n",
            "26      000a02d807ae0254   5.323581e-05  0.000406  2.349588e-05  0.003313\n",
            "27      000a6c6d4e89b9bc   6.202004e-05  0.000547  2.516065e-05  0.004432\n",
            "28      000bafe2080bba82   3.992507e-02  0.093132  1.884265e-02  0.359313\n",
            "29      000bf0a9894b2807   2.704654e-06  0.000017  5.617962e-07  0.000145\n",
            "...                  ...            ...       ...           ...       ...\n",
            "153134  fff3ae2e177b6bb3   6.018588e-06  0.000038  1.339403e-06  0.000271\n",
            "153135  fff4109e837f7acc   2.664963e-06  0.000021  9.288013e-07  0.000171\n",
            "153136  fff4373a81ef9f2a   5.587390e-06  0.000032  1.286438e-06  0.000236\n",
            "153137  fff460574ddbcd80   4.581973e-04  0.001849  1.614885e-04  0.013083\n",
            "153138  fff4fc0a1555be5c   1.117686e-05  0.000087  4.479989e-06  0.000630\n",
            "153139  fff5b9bb944d634c   1.804253e-05  0.000108  6.846608e-06  0.000889\n",
            "153140  fff5c4a77fe0c05f   3.706796e-05  0.000344  1.798040e-05  0.002779\n",
            "153141  fff5fb61bd637c82   2.484837e-06  0.000018  6.373201e-07  0.000172\n",
            "153142  fff69311f306df44   9.480354e-05  0.000553  4.868667e-05  0.003613\n",
            "153143  fff6ad63666fb304   3.230021e-02  0.538560  8.187105e-03  0.980272\n",
            "153144  fff7159b3ee95618   1.449454e-04  0.000890  8.950326e-05  0.006111\n",
            "153145  fff718ffe5f05559   4.425790e-06  0.000028  7.641636e-07  0.000227\n",
            "153146  fff7fc22a0cdccd3   4.538654e-06  0.000026  1.335977e-06  0.000206\n",
            "153147  fff83b80284d8440   3.918033e-06  0.000030  1.551762e-06  0.000227\n",
            "153148  fff8ef316d0c6990   2.498078e-06  0.000025  8.199467e-07  0.000214\n",
            "153149  fff8f521a7dbcd47   3.107513e-02  0.215968  1.978927e-02  0.632411\n",
            "153150  fff8f64043129fa2   8.780737e-06  0.000063  1.957509e-06  0.000529\n",
            "153151  fff9d70fe0722906   1.575259e-02  0.236822  5.149664e-03  0.615985\n",
            "153152  fff9fa508f400ee6   1.243693e-02  0.141831  5.780808e-03  0.550403\n",
            "153153  fffa3fae1890b40a   1.645093e-02  0.271163  4.546707e-03  0.568333\n",
            "153154  fffa8a11c4378854   5.654149e-02  0.289684  3.218903e-02  0.677038\n",
            "153155  fffac2a094c8e0e2   2.801811e-01  0.823808  9.689953e-02  0.985795\n",
            "153156  fffb5451268fb5ba   2.361172e-05  0.000132  1.069416e-05  0.000998\n",
            "153157  fffc2b34bbe61c8d   3.668549e-06  0.000022  8.525731e-07  0.000186\n",
            "153158  fffc489742ffe69b   2.287034e-02  0.426392  7.806968e-03  0.890240\n",
            "153159  fffcd0960ee309b5   2.308020e-03  0.050330  9.097323e-04  0.286153\n",
            "153160  fffd7a9a6eb32c16   2.231526e-04  0.001476  1.013467e-04  0.009883\n",
            "153161  fffda9e8d6fafa9e   2.883970e-06  0.000027  4.233266e-07  0.000254\n",
            "153162  fffe8f1340a79fc2   3.152626e-05  0.000169  5.273183e-06  0.001109\n",
            "153163  ffffce3fb183ee80   1.301271e-02  0.414541  4.034593e-03  0.924864\n",
            "\n",
            "[153164 rows x 5 columns]\n"
          ],
          "name": "stdout"
        }
      ]
    },
    {
      "metadata": {
        "id": "42fEISJ_3MYX",
        "colab_type": "text"
      },
      "cell_type": "markdown",
      "source": [
        "View result page\n",
        "(You can view different result page by changing the variable batch_line)"
      ]
    },
    {
      "metadata": {
        "id": "Z_MGix5U3ZDy",
        "colab_type": "code",
        "colab": {
          "autoexec": {
            "startup": false,
            "wait_interval": 0
          },
          "output_extras": [
            {
              "item_id": 1
            }
          ],
          "base_uri": "https://localhost:8080/",
          "height": 348
        },
        "outputId": "1012bd76-5f0f-41f9-b962-5f1145aad8bb",
        "executionInfo": {
          "status": "ok",
          "timestamp": 1522923654346,
          "user_tz": -480,
          "elapsed": 862,
          "user": {
            "displayName": "Tony Yeung",
            "photoUrl": "https://lh3.googleusercontent.com/a/default-user=s128",
            "userId": "102507755674271928464"
          }
        }
      },
      "cell_type": "code",
      "source": [
        "pd.set_option('max_colwidth', 400)\n",
        "batch_line = 18\n",
        "merged[(batch_line-1) * 10: 10*batch_line]"
      ],
      "execution_count": 87,
      "outputs": [
        {
          "output_type": "execute_result",
          "data": {
            "text/html": [
              "<div>\n",
              "<style scoped>\n",
              "    .dataframe tbody tr th:only-of-type {\n",
              "        vertical-align: middle;\n",
              "    }\n",
              "\n",
              "    .dataframe tbody tr th {\n",
              "        vertical-align: top;\n",
              "    }\n",
              "\n",
              "    .dataframe thead th {\n",
              "        text-align: right;\n",
              "    }\n",
              "</style>\n",
              "<table border=\"1\" class=\"dataframe\">\n",
              "  <thead>\n",
              "    <tr style=\"text-align: right;\">\n",
              "      <th></th>\n",
              "      <th>id</th>\n",
              "      <th>identity_hate</th>\n",
              "      <th>insult</th>\n",
              "      <th>threat</th>\n",
              "      <th>toxic</th>\n",
              "    </tr>\n",
              "  </thead>\n",
              "  <tbody>\n",
              "    <tr>\n",
              "      <th>170</th>\n",
              "      <td>00441d96a027ea2d</td>\n",
              "      <td>0.219591</td>\n",
              "      <td>0.402637</td>\n",
              "      <td>9.760173e-02</td>\n",
              "      <td>0.778817</td>\n",
              "    </tr>\n",
              "    <tr>\n",
              "      <th>171</th>\n",
              "      <td>004515df90b06ef9</td>\n",
              "      <td>0.000337</td>\n",
              "      <td>0.001582</td>\n",
              "      <td>2.381372e-04</td>\n",
              "      <td>0.010592</td>\n",
              "    </tr>\n",
              "    <tr>\n",
              "      <th>172</th>\n",
              "      <td>004540f1a3bba137</td>\n",
              "      <td>0.000039</td>\n",
              "      <td>0.000207</td>\n",
              "      <td>2.077843e-05</td>\n",
              "      <td>0.001337</td>\n",
              "    </tr>\n",
              "    <tr>\n",
              "      <th>173</th>\n",
              "      <td>00463993d4325375</td>\n",
              "      <td>0.000002</td>\n",
              "      <td>0.000019</td>\n",
              "      <td>6.187997e-07</td>\n",
              "      <td>0.000165</td>\n",
              "    </tr>\n",
              "    <tr>\n",
              "      <th>174</th>\n",
              "      <td>004651d6884295bf</td>\n",
              "      <td>0.222222</td>\n",
              "      <td>0.773021</td>\n",
              "      <td>8.501934e-02</td>\n",
              "      <td>0.981084</td>\n",
              "    </tr>\n",
              "    <tr>\n",
              "      <th>175</th>\n",
              "      <td>0046db897eaa12e7</td>\n",
              "      <td>0.065944</td>\n",
              "      <td>0.636578</td>\n",
              "      <td>1.387071e-02</td>\n",
              "      <td>0.982172</td>\n",
              "    </tr>\n",
              "    <tr>\n",
              "      <th>176</th>\n",
              "      <td>0046f41333aebfe7</td>\n",
              "      <td>0.000042</td>\n",
              "      <td>0.000260</td>\n",
              "      <td>1.586425e-05</td>\n",
              "      <td>0.002200</td>\n",
              "    </tr>\n",
              "    <tr>\n",
              "      <th>177</th>\n",
              "      <td>0047582c40509d2d</td>\n",
              "      <td>0.000015</td>\n",
              "      <td>0.000102</td>\n",
              "      <td>4.183455e-06</td>\n",
              "      <td>0.000837</td>\n",
              "    </tr>\n",
              "    <tr>\n",
              "      <th>178</th>\n",
              "      <td>004793abaf67dd8e</td>\n",
              "      <td>0.046684</td>\n",
              "      <td>0.334957</td>\n",
              "      <td>2.587138e-02</td>\n",
              "      <td>0.806535</td>\n",
              "    </tr>\n",
              "    <tr>\n",
              "      <th>179</th>\n",
              "      <td>004902b29a55acae</td>\n",
              "      <td>0.006576</td>\n",
              "      <td>0.132209</td>\n",
              "      <td>3.688729e-03</td>\n",
              "      <td>0.566476</td>\n",
              "    </tr>\n",
              "  </tbody>\n",
              "</table>\n",
              "</div>"
            ],
            "text/plain": [
              "                   id  identity_hate    insult        threat     toxic\n",
              "170  00441d96a027ea2d       0.219591  0.402637  9.760173e-02  0.778817\n",
              "171  004515df90b06ef9       0.000337  0.001582  2.381372e-04  0.010592\n",
              "172  004540f1a3bba137       0.000039  0.000207  2.077843e-05  0.001337\n",
              "173  00463993d4325375       0.000002  0.000019  6.187997e-07  0.000165\n",
              "174  004651d6884295bf       0.222222  0.773021  8.501934e-02  0.981084\n",
              "175  0046db897eaa12e7       0.065944  0.636578  1.387071e-02  0.982172\n",
              "176  0046f41333aebfe7       0.000042  0.000260  1.586425e-05  0.002200\n",
              "177  0047582c40509d2d       0.000015  0.000102  4.183455e-06  0.000837\n",
              "178  004793abaf67dd8e       0.046684  0.334957  2.587138e-02  0.806535\n",
              "179  004902b29a55acae       0.006576  0.132209  3.688729e-03  0.566476"
            ]
          },
          "metadata": {
            "tags": []
          },
          "execution_count": 87
        }
      ]
    },
    {
      "metadata": {
        "id": "UW0ApGAr3eEp",
        "colab_type": "text"
      },
      "cell_type": "markdown",
      "source": [
        "Last but not least : Save the result to the workspace "
      ]
    },
    {
      "metadata": {
        "id": "pMmUvTgtUxri",
        "colab_type": "code",
        "colab": {
          "autoexec": {
            "startup": false,
            "wait_interval": 0
          },
          "output_extras": [
            {
              "item_id": 1
            }
          ],
          "base_uri": "https://localhost:8080/",
          "height": 265
        },
        "outputId": "c5d74ccb-d997-43a6-e8e8-9fbb339c0e25",
        "executionInfo": {
          "status": "ok",
          "timestamp": 1522923678155,
          "user_tz": -480,
          "elapsed": 1844,
          "user": {
            "displayName": "Tony Yeung",
            "photoUrl": "https://lh3.googleusercontent.com/a/default-user=s128",
            "userId": "102507755674271928464"
          }
        }
      },
      "cell_type": "code",
      "source": [
        "merged.to_csv('toxic_comment_submit.csv', sep=',', index = False, float_format='%.1f', columns=[\"id\",\"toxic\",\"severe_toxic\",\"obscene\",\"threat\",\"insult\", \"identity_hate\" ])"
      ],
      "execution_count": 88,
      "outputs": [
        {
          "output_type": "stream",
          "text": [
            "/usr/local/lib/python3.6/dist-packages/pandas/io/formats/format.py:1586: FutureWarning: \n",
            "Passing list-likes to .loc or [] with any missing label will raise\n",
            "KeyError in the future, you can use .reindex() as an alternative.\n",
            "\n",
            "See the documentation here:\n",
            "http://pandas.pydata.org/pandas-docs/stable/indexing.html#deprecate-loc-reindex-listlike\n",
            "  self.obj = self.obj.loc[:, cols]\n",
            "/usr/local/lib/python3.6/dist-packages/pandas/core/indexing.py:1367: FutureWarning: \n",
            "Passing list-likes to .loc or [] with any missing label will raise\n",
            "KeyError in the future, you can use .reindex() as an alternative.\n",
            "\n",
            "See the documentation here:\n",
            "http://pandas.pydata.org/pandas-docs/stable/indexing.html#deprecate-loc-reindex-listlike\n",
            "  return self._getitem_tuple(key)\n"
          ],
          "name": "stderr"
        }
      ]
    },
    {
      "metadata": {
        "id": "s7MEdnckUyJd",
        "colab_type": "code",
        "colab": {
          "autoexec": {
            "startup": false,
            "wait_interval": 0
          },
          "output_extras": [
            {
              "item_id": 1
            }
          ],
          "base_uri": "https://localhost:8080/",
          "height": 52
        },
        "outputId": "c1bb3cff-2efb-420d-a028-51934975a3a9",
        "executionInfo": {
          "status": "ok",
          "timestamp": 1522923693629,
          "user_tz": -480,
          "elapsed": 1769,
          "user": {
            "displayName": "Tony Yeung",
            "photoUrl": "https://lh3.googleusercontent.com/a/default-user=s128",
            "userId": "102507755674271928464"
          }
        }
      },
      "cell_type": "code",
      "source": [
        "!ls"
      ],
      "execution_count": 89,
      "outputs": [
        {
          "output_type": "stream",
          "text": [
            "datalab\t\t    model_toxic_comment1.json  toxic_comment_submit.csv\r\n",
            "model_toxic_com.h5  toxic_comments_data\r\n"
          ],
          "name": "stdout"
        }
      ]
    },
    {
      "metadata": {
        "id": "qcQ6m5SmVCwg",
        "colab_type": "text"
      },
      "cell_type": "markdown",
      "source": [
        "That is! Now you can download all the model files and result files"
      ]
    },
    {
      "metadata": {
        "id": "4T2A0sZpU17-",
        "colab_type": "code",
        "colab": {
          "autoexec": {
            "startup": false,
            "wait_interval": 0
          }
        }
      },
      "cell_type": "code",
      "source": [
        "from google.colab import files\n",
        "\n",
        "\n",
        "files.download('model_toxic_comment1.json')"
      ],
      "execution_count": 0,
      "outputs": []
    },
    {
      "metadata": {
        "id": "eu3IEAKCVKe3",
        "colab_type": "code",
        "colab": {
          "autoexec": {
            "startup": false,
            "wait_interval": 0
          }
        }
      },
      "cell_type": "code",
      "source": [
        "from google.colab import files\n",
        "\n",
        "\n",
        "files.download('model_toxic_com.h5')"
      ],
      "execution_count": 0,
      "outputs": []
    },
    {
      "metadata": {
        "id": "NACmQhl7VPdc",
        "colab_type": "code",
        "colab": {
          "autoexec": {
            "startup": false,
            "wait_interval": 0
          }
        }
      },
      "cell_type": "code",
      "source": [
        "from google.colab import files\n",
        "\n",
        "\n",
        "files.download('toxic_comment_submit.csv')"
      ],
      "execution_count": 0,
      "outputs": []
    }
  ]
}